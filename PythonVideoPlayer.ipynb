import cv2

#Video Definitions
cap = cv2.VideoCapture("video.mp4")
cap2 = cv2.VideoCapture("video.mp4")

length = int(cap.get(cv2.CAP_PROP_FRAME_COUNT))
length2 = int(cap2.get(cv2.CAP_PROP_FRAME_COUNT))

def flick(x):
    pass

def onChange(trackbarValue):
    cap.set(cv2.CAP_PROP_POS_FRAMES,trackbarValue)
    err,img = cap.read()
    img = cv2.resize(img, (0,0), fx=0.25, fy=0.25) 
    cv2.imshow("mywindow", img)
    pass

#Window 1
cv2.namedWindow('mywindow')
cv2.moveWindow('mywindow',50,150)
cv2.createTrackbar( 'position'  , 'mywindow', 0, length, flick)

#Window 2
cv2.namedWindow('mywindow2')
cv2.moveWindow('mywindow2',700,150)
cv2.createTrackbar( 'position2'  , 'mywindow2', 0, length2, flick)

onChange(0)
cv2.waitKey()

cap.set(cv2.CAP_PROP_POS_FRAMES,0)
while cap.isOpened():
    
    #Display Video 1
    err,img = cap.read()
    img = cv2.resize(img, (0,0), fx=0.25, fy=0.25)
    cv2.imshow("mywindow", img)
    
    #Display Video2
    err,img2 = cap2.read()
    img2 = cv2.resize(img2, (0,0), fx=0.25, fy=0.25)
    cv2.imshow("mywindow2", img2)
    
    #Set the position for trackbar "position" 
    cv2.setTrackbarPos('position','mywindow',int(cap.get(cv2.CAP_PROP_POS_FRAMES)))
    cv2.setTrackbarPos('position2','mywindow2',int(cap2.get(cv2.CAP_PROP_POS_FRAMES)))
     
    #Inputs to 
    if cv2.waitKey(1) & 0xFF == ord('k'):
        # Buttonpress 90 frames backwards
        if cv2.waitKey(0) & 0xFF == ord('j'):
            cap.set(cv2.CAP_PROP_POS_FRAMES, int(cap.get(cv2.CAP_PROP_POS_FRAMES)-90))
            cap2.set(cv2.CAP_PROP_POS_FRAMES, int(cap2.get(cv2.CAP_PROP_POS_FRAMES)-90))
        # Buttonpress 90 frames backwards
        elif cv2.waitKey(0) & 0xFF == ord('l'):
            cap.set(cv2.CAP_PROP_POS_FRAMES, int(cap.get(cv2.CAP_PROP_POS_FRAMES)+90))
            cap2.set(cv2.CAP_PROP_POS_FRAMES, int(cap2.get(cv2.CAP_PROP_POS_FRAMES)+90))
        else:
            cv2.waitKey(0)
    
    #Inputs while the video is playing
    
    #if status == 'play':
    #    cap.set(cv2.CAP_PROP_POS_FRAMES,int(cap.get(cv2.CAP_PROP_POS_FRAMES)))
  

    # Buttonpress 90 frames backwards
    #if cv2.waitKey(1) & 0xFF == ord('j'):
    #    cap.set(cv2.CAP_PROP_POS_FRAMES, int(cap.get(cv2.CAP_PROP_POS_FRAMES)-90))
    #    cap2.set(cv2.CAP_PROP_POS_FRAMES, int(cap.get(cv2.CAP_PROP_POS_FRAMES)-90))
        
    # Buttonpress 90 frames backwards
    #if cv2.waitKey(1) & 0xFF == ord('l'):
    #    cap.set(cv2.CAP_PROP_POS_FRAMES, int(cap.get(cv2.CAP_PROP_POS_FRAMES)+90))
    #    cap2.set(cv2.CAP_PROP_POS_FRAMES, int(cap.get(cv2.CAP_PROP_POS_FRAMES)+90))

    # Bei Butondruck Quit - doesn't work with MacOS
    k = cv2.waitKey(1) & 0xff  == ord('q')
    if k==27:
        cv2.waitKey(0)
        break
